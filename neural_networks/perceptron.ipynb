{
 "cells": [
  {
   "cell_type": "markdown",
   "metadata": {},
   "source": [
    "# Perceptron"
   ]
  },
  {
   "cell_type": "markdown",
   "metadata": {},
   "source": [
    "Perceptron is an algorithm for supervised learning a binary classifier called a threshold function: a function that maps its input $\\boldsymbol{\\mathrm{x}}$ (a real-valued vector) to an output value $f(\\boldsymbol{\\mathrm{x}})$ (a single binary value):\n",
    "\n",
    "$$ f(\\boldsymbol{\\mathrm{x}}) =\n",
    "  \\begin{cases}\n",
    "    1       & \\quad \\text{if } \\boldsymbol{\\mathrm{w}} \\cdot \\boldsymbol{\\mathrm{x}} + b > 0, \\\\\n",
    "    0  & \\quad \\text{ otherwise}\n",
    "  \\end{cases}\n",
    "$$\n",
    "\n",
    "If we consider bias $b$ as part of the weight $\\boldsymbol{\\mathrm{w}}$ vector for which input will always be 1, we can simply rewrite the threshold functions as:\n",
    "\n",
    "$$ f(\\boldsymbol{\\mathrm{x}}) =\n",
    "  \\begin{cases}\n",
    "    1       & \\quad \\text{if } \\boldsymbol{\\mathrm{w}} \\cdot \\boldsymbol{\\mathrm{x}} > 0, \\\\\n",
    "    0  & \\quad \\text{ otherwise}\n",
    "  \\end{cases}\n",
    "$$\n",
    "\n",
    "\n",
    "**Training the model**: We try to adjust the input weights $\\boldsymbol{\\mathrm{w}}$ according to following learning step:\n",
    "\n",
    "$$ \\boldsymbol{\\mathrm{w}} \\leftarrow \\boldsymbol{\\mathrm{w}} + (\\boldsymbol{\\mathrm{x}} \\cdot \\eta \\cdot e )$$\n",
    "\n",
    "where:\n",
    "- $ \\eta $ : Learning rate, having value in the range [0, 1]\n",
    "- $ e $ : Error = $y_{labeled} - f(\\boldsymbol{\\mathrm{x}})$\n"
   ]
  },
  {
   "cell_type": "code",
   "execution_count": 1,
   "metadata": {},
   "outputs": [],
   "source": [
    "import numpy as np\n",
    "from sklearn.metrics import accuracy_score"
   ]
  },
  {
   "cell_type": "code",
   "execution_count": 2,
   "metadata": {},
   "outputs": [],
   "source": [
    "class Perceptron(object):\n",
    "    \"\"\"A perceptron class\"\"\"\n",
    "    \n",
    "    def __init__(self, input_datum_size, learning_rate = 0.1, epochs = 100):\n",
    "        self.weights = np.zeros(input_datum_size + 1) # added one for bias\n",
    "        self.learning_rate = learning_rate\n",
    "        self.epochs = epochs\n",
    "        \n",
    "    def activation(self, value):\n",
    "        return 1 if value >= 0 else 0\n",
    "    \n",
    "    def prepare_input(self, input_datum):\n",
    "        # Insert 1 (bias input) before index 0 (i.e first position) in the input datum array\n",
    "        return np.insert(input_datum, 0, 1)\n",
    "    \n",
    "    def predict(self, input_datum):\n",
    "        input_datum = np.array(input_datum)\n",
    "        if (input_datum.shape[0] != self.weights.shape[0]): \n",
    "            input_datum = self.prepare_input(input_datum)\n",
    "        return self.activation(self.weights.T.dot(input_datum))\n",
    "        \n",
    "        \n",
    "    def fit(self, input_data, expected_output_data):\n",
    "        \"\"\"Fits the model to given input and expected data\"\"\"\n",
    "        for _ in range(self.epochs):\n",
    "            # Iterate for input-output data size\n",
    "            for i in range(expected_output_data.shape[0]):\n",
    "                input_datum = self.prepare_input(input_data[i])\n",
    "                predicted_output_datum = self.predict(input_datum)\n",
    "                err = expected_output_data[i] - predicted_output_datum\n",
    "                self.weights = self.weights + self.learning_rate * err * input_datum\n",
    "                \n",
    "    "
   ]
  },
  {
   "cell_type": "code",
   "execution_count": 3,
   "metadata": {},
   "outputs": [
    {
     "name": "stdout",
     "output_type": "stream",
     "text": [
      "[-0.1  0.1  0.1]\n"
     ]
    }
   ],
   "source": [
    "input_data = np.array([\n",
    "        [0, 0],\n",
    "        [0, 1],\n",
    "        [1, 0],\n",
    "        [1, 1]\n",
    "    ])\n",
    "expected_output_data = np.array([0, 1, 1, 1])\n",
    " \n",
    "perceptron = Perceptron(input_datum_size = input_data.shape[1])\n",
    "perceptron.fit(input_data, expected_output_data)\n",
    "print(perceptron.weights)"
   ]
  },
  {
   "cell_type": "code",
   "execution_count": 4,
   "metadata": {},
   "outputs": [
    {
     "data": {
      "text/plain": [
       "1.0"
      ]
     },
     "execution_count": 4,
     "metadata": {},
     "output_type": "execute_result"
    }
   ],
   "source": [
    "predicted_y = []\n",
    "for i in range(input_data.shape[0]):\n",
    "    predicted_y.append(perceptron.predict(input_data[i]))\n",
    "accuracy_score(predicted_y, expected_output_data)"
   ]
  },
  {
   "cell_type": "code",
   "execution_count": 5,
   "metadata": {},
   "outputs": [],
   "source": [
    "from sklearn.datasets.samples_generator import make_blobs\n",
    "X, y = make_blobs(n_samples = 100, centers = 2, cluster_std=2.2, random_state=42)"
   ]
  },
  {
   "cell_type": "code",
   "execution_count": 6,
   "metadata": {},
   "outputs": [
    {
     "data": {
      "text/plain": [
       "Text(0,0.5,'x2')"
      ]
     },
     "execution_count": 6,
     "metadata": {},
     "output_type": "execute_result"
    },
    {
     "data": {
      "image/png": "[encoded data removed]",
      "text/plain": [
       "<Figure size 432x288 with 1 Axes>"
      ]
     },
     "metadata": {},
     "output_type": "display_data"
    }
   ],
   "source": [
    "import matplotlib.pyplot as plt\n",
    "plt.style.use('ggplot')\n",
    "%matplotlib inline\n",
    "plt.scatter(X[:, 0], X[:, 1], s=100, c=y);\n",
    "plt.xlabel('x1')\n",
    "plt.ylabel('x2')"
   ]
  },
  {
   "cell_type": "code",
   "execution_count": 7,
   "metadata": {},
   "outputs": [],
   "source": [
    "perceptron = Perceptron(input_datum_size = X.shape[1], learning_rate=0.1, epochs=100)"
   ]
  },
  {
   "cell_type": "code",
   "execution_count": 8,
   "metadata": {},
   "outputs": [],
   "source": [
    "perceptron.fit(X, y)"
   ]
  },
  {
   "cell_type": "code",
   "execution_count": 9,
   "metadata": {},
   "outputs": [],
   "source": [
    "# Calculate predicted_data\n",
    "predicted_y = []\n",
    "for i in range(X.shape[0]):\n",
    "    predicted_y.append(perceptron.predict(X[i]))"
   ]
  },
  {
   "cell_type": "code",
   "execution_count": 10,
   "metadata": {},
   "outputs": [
    {
     "data": {
      "text/plain": [
       "1.0"
      ]
     },
     "execution_count": 10,
     "metadata": {},
     "output_type": "execute_result"
    }
   ],
   "source": [
    "# Let's calculate accuracy score\n",
    "accuracy_score(predicted_y, y)"
   ]
  }
 ],
 "metadata": {
  "kernelspec": {
   "display_name": "Python 3",
   "language": "python",
   "name": "python3"
  },
  "language_info": {
   "codemirror_mode": {
    "name": "ipython",
    "version": 3
   },
   "file_extension": ".py",
   "mimetype": "text/x-python",
   "name": "python",
   "nbconvert_exporter": "python",
   "pygments_lexer": "ipython3",
   "version": "3.6.5"
  }
 },
 "nbformat": 4,
 "nbformat_minor": 2
}
